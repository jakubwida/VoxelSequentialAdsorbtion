{
 "cells": [
  {
   "cell_type": "code",
   "execution_count": 41,
   "metadata": {},
   "outputs": [],
   "source": [
    "import numpy as np\n",
    "import matplotlib.pyplot as plt\n",
    "import matplotlib.patches as patches"
   ]
  },
  {
   "cell_type": "code",
   "execution_count": 3,
   "metadata": {},
   "outputs": [
    {
     "data": {
      "text/plain": [
       "2"
      ]
     },
     "execution_count": 3,
     "metadata": {},
     "output_type": "execute_result"
    }
   ],
   "source": []
  },
  {
   "cell_type": "code",
   "execution_count": 82,
   "metadata": {},
   "outputs": [
    {
     "name": "stdout",
     "output_type": "stream",
     "text": [
      "[50. 50.]\n"
     ]
    },
    {
     "data": {
      "image/png": "[encoded data removed]",
      "text/plain": [
       "<Figure size 432x288 with 1 Axes>"
      ]
     },
     "metadata": {},
     "output_type": "display_data"
    }
   ],
   "source": [
    "#general idea:\n",
    "# there is a world, which has size and number of voxels for N dimensions\n",
    "# every voxel can be subdivided by into 2 by every dimension\n",
    "# when voxel is subdivided, the subdivided voxels are his children\n",
    "# world can return a voxel given position\n",
    "# it will return a smallest available voxel child within the area\n",
    "\n",
    "\n",
    "class Voxel:\n",
    "    def __init__(self,world,pos,size,int_pos,parent=None):\n",
    "        self.world = world\n",
    "        self.parent = parent\n",
    "        self.pos=pos\n",
    "        self.size=size\n",
    "        self.int_pos = tuple(pos)\n",
    "        self.subvoxels = np.zeros([2 for i in range(len(self.world.size))]).astype(object)\n",
    "        self.contents = []\n",
    "        self.is_divided = False\n",
    "        self.color = \"none\"\n",
    "        \n",
    "    def subdivide(self):\n",
    "        self.is_divided = True\n",
    "        v_size = self.size / 2\n",
    "        for index, x in np.ndenumerate(self.subvoxels):\n",
    "            v_int_pos = tuple(index)\n",
    "            v_pos = (np.array(index) * v_size) + self.pos\n",
    "            self.subvoxels[tuple(index)]=Voxel(self.world,v_pos,v_size,v_int_pos,self) \n",
    "         \n",
    "    def get_subvoxel(self,pos):\n",
    "        if self.is_divided:\n",
    "            #print(\"debug\",pos,self.pos,self.size,np.floor((pos - self.pos) / (self.size / 2) ).astype(int))\n",
    "            int_pos = tuple(np.floor((pos - self.pos) / (self.size / 2)).astype(int))\n",
    "            return self.subvoxels[int_pos]\n",
    "        else:\n",
    "            return self\n",
    "        \n",
    "    def __repr__(self):\n",
    "        return str(self.pos)\n",
    "    \n",
    "    def _draw(self,ax):\n",
    "        #print('adding patch',tuple(self.pos),self.size[0],self.size[1])\n",
    "        rect = patches.Rectangle(tuple(self.pos),self.size[0],self.size[1],\n",
    "                                 linewidth=1,edgecolor='r',facecolor=self.color)\n",
    "        ax.add_patch(rect)\n",
    "        if self.is_divided:\n",
    "            for index, x in np.ndenumerate(self.subvoxels):\n",
    "                self.subvoxels[tuple(index)]._draw(ax)\n",
    "\n",
    "class VoxelWorld:\n",
    "    #size = n element array, where n is a number of dimensions, and size[i] = size of world in i'th dimension\n",
    "    #base_voxel_num = n element array, where n is a number of dimensions, \n",
    "    ##and base_voxel_num[i] = number of base voxels in i'th dimension\n",
    "    def __init__(self,size,base_voxel_num):\n",
    "        self.size = np.array(size)\n",
    "        self.base_voxel_num =np.array(base_voxel_num)\n",
    "        self.base_voxel_size = self.size / self.base_voxel_num\n",
    "        self.world = np.zeros(self.base_voxel_num.astype(int)).astype(object)\n",
    "        \n",
    "        for index, x in np.ndenumerate(self.world):\n",
    "            v_size = self.base_voxel_size\n",
    "            v_int_pos = tuple(index)\n",
    "            v_pos = np.array(index) * v_size\n",
    "            self.world[tuple(index)]=Voxel(self,v_pos,v_size,v_int_pos) \n",
    "\n",
    "    def get_voxel_from_pos(self,pos):\n",
    "        int_pos = tuple(np.floor(pos / self.base_voxel_size).astype(int))\n",
    "        voxel = self.world[int_pos]\n",
    "        while voxel.is_divided:\n",
    "            voxel = voxel.get_subvoxel(pos)\n",
    "        return voxel\n",
    "    \n",
    "    def plot(self):\n",
    "        if len(self.size == 2):\n",
    "            plt.figure()\n",
    "            ax = plt.gca()\n",
    "            ax.set_xlim([0,self.size[0]])\n",
    "            ax.set_ylim([0,self.size[1]])\n",
    "            #ax.add_patch(patches.Rectangle((0.1, 0.1), 0.2, 0.2, fill=None, alpha=1))\n",
    "            for index, x in np.ndenumerate(self.world):\n",
    "                self.world[tuple(index)]._draw(ax)\n",
    "            ax.scatter((70.2),(70.3))    \n",
    "            plt.show()    \n",
    "        else:\n",
    "            print(\"Cannot draw when dimension number != 2\")\n",
    "          \n",
    "vw = VoxelWorld((100.0,100.0),(1,1))    \n",
    "vw.get_voxel_from_pos((70.2,70.3)).subdivide()\n",
    "vw.get_voxel_from_pos((70.2,70.3)).subdivide()\n",
    "vw.get_voxel_from_pos((70.2,70.3)).subdivide()\n",
    "vw.get_voxel_from_pos((70.2,70.3)).subdivide()\n",
    "vw.get_voxel_from_pos((70.2,70.3)).color = 'red'\n",
    "print(vw.get_voxel_from_pos((60.2,60.3)).pos)\n",
    "vw.plot()\n",
    "\n",
    "#someX, someY = 0.5, 0.5\n",
    "#plt.figure()\n",
    "#currentAxis = plt.gca()\n",
    "#currentAxis.add_patch(patches.Rectangle((someX - .1, someY - .1), 0.2, 0.2, fill=None, alpha=1))\n",
    "#plt.show()"
   ]
  },
  {
   "cell_type": "code",
   "execution_count": null,
   "metadata": {},
   "outputs": [],
   "source": []
  }
 ],
 "metadata": {
  "kernelspec": {
   "display_name": "Python 3",
   "language": "python",
   "name": "python3"
  },
  "language_info": {
   "codemirror_mode": {
    "name": "ipython",
    "version": 3
   },
   "file_extension": ".py",
   "mimetype": "text/x-python",
   "name": "python",
   "nbconvert_exporter": "python",
   "pygments_lexer": "ipython3",
   "version": "3.6.5"
  }
 },
 "nbformat": 4,
 "nbformat_minor": 2
}
