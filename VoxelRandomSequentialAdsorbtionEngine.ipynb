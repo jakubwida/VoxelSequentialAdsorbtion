{
 "cells": [
  {
   "cell_type": "code",
   "execution_count": 26,
   "metadata": {},
   "outputs": [],
   "source": [
    "import numpy as np"
   ]
  },
  {
   "cell_type": "code",
   "execution_count": 3,
   "metadata": {},
   "outputs": [
    {
     "data": {
      "text/plain": [
       "2"
      ]
     },
     "execution_count": 3,
     "metadata": {},
     "output_type": "execute_result"
    }
   ],
   "source": []
  },
  {
   "cell_type": "code",
   "execution_count": 29,
   "metadata": {},
   "outputs": [
    {
     "data": {
      "text/plain": [
       "[33.33333333  0.        ]"
      ]
     },
     "execution_count": 29,
     "metadata": {},
     "output_type": "execute_result"
    }
   ],
   "source": [
    "#general idea:\n",
    "# there is a world, which has size and number of voxels for N dimensions\n",
    "# every voxel can be subdivided by into 2 by every dimension\n",
    "# when voxel is subdivided, the subdivided voxels are his children\n",
    "# world can return a voxel given position\n",
    "# it will return a smallest available voxel child within the area\n",
    "\n",
    "\n",
    "class Voxel:\n",
    "    def __init__(self,world,pos,size,int_pos,parent=None):\n",
    "        self.world = world\n",
    "        self.parent = parent\n",
    "        self.pos=pos\n",
    "        self.size=size\n",
    "        self.int_pos = tuple(pos)\n",
    "        self.subvoxels = np.zeros([2 for i in range(len(self.world.size))]).astype(object)\n",
    "        self.contents = []\n",
    "        self.is_divided = False\n",
    "    \n",
    "        \n",
    "    def __repr__(self):\n",
    "        return str(self.pos)\n",
    "\n",
    "class VoxelWorld:\n",
    "    #size = n element array, where n is a number of dimensions, and size[i] = size of world in i'th dimension\n",
    "    #base_voxel_num = n element array, where n is a number of dimensions, \n",
    "    ##and base_voxel_num[i] = number of base voxels in i'th dimension\n",
    "    def __init__(self,size,base_voxel_num):\n",
    "        self.size = np.array(size)\n",
    "        self.base_voxel_num =np.array(base_voxel_num)\n",
    "        self.base_voxel_size = self.size / self.base_voxel_num\n",
    "        self.world = np.zeros(self.base_voxel_num.astype(int)).astype(object)\n",
    "        \n",
    "        for index, x in np.ndenumerate(self.world):\n",
    "            v_size = self.base_voxel_size\n",
    "            v_int_pos = tuple(index)\n",
    "            v_pos = np.array(index) * v_size\n",
    "            self.world[tuple(index)]=Voxel(self,v_pos,v_size,v_int_pos) \n",
    "\n",
    "    def get_voxel_from_pos(self,pos):\n",
    "        int_pos = tuple(np.floor(pos / self.base_voxel_size).astype(int))\n",
    "        return self.world[int_pos]\n",
    "    \n",
    "vw = VoxelWorld((100.0,100.0),(3,2))    \n",
    "vw.get_voxel_from_pos((50.2,2.3))"
   ]
  },
  {
   "cell_type": "code",
   "execution_count": null,
   "metadata": {},
   "outputs": [],
   "source": []
  }
 ],
 "metadata": {
  "kernelspec": {
   "display_name": "Python 3",
   "language": "python",
   "name": "python3"
  },
  "language_info": {
   "codemirror_mode": {
    "name": "ipython",
    "version": 3
   },
   "file_extension": ".py",
   "mimetype": "text/x-python",
   "name": "python",
   "nbconvert_exporter": "python",
   "pygments_lexer": "ipython3",
   "version": "3.6.5"
  }
 },
 "nbformat": 4,
 "nbformat_minor": 2
}
